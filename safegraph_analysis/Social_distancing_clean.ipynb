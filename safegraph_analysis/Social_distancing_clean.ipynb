{
  "nbformat": 4,
  "nbformat_minor": 0,
  "metadata": {
    "colab": {
      "name": "Social_distancing_clean.ipynb",
      "provenance": [],
      "collapsed_sections": []
    },
    "kernelspec": {
      "name": "python3",
      "display_name": "Python 3"
    }
  },
  "cells": [
    {
      "cell_type": "code",
      "metadata": {
        "id": "aCwlGiKb9cP_",
        "colab_type": "code",
        "outputId": "f7bd6c65-acc6-4c50-9ee2-0e4fedfead76",
        "colab": {
          "base_uri": "https://localhost:8080/",
          "height": 122
        }
      },
      "source": [
        "from google.colab import drive\n",
        "drive.mount('/content/drive')"
      ],
      "execution_count": 16,
      "outputs": [
        {
          "output_type": "stream",
          "text": [
            "Go to this URL in a browser: https://accounts.google.com/o/oauth2/auth?client_id=947318989803-6bn6qk8qdgf4n4g3pfee6491hc0brc4i.apps.googleusercontent.com&redirect_uri=urn%3aietf%3awg%3aoauth%3a2.0%3aoob&response_type=code&scope=email%20https%3a%2f%2fwww.googleapis.com%2fauth%2fdocs.test%20https%3a%2f%2fwww.googleapis.com%2fauth%2fdrive%20https%3a%2f%2fwww.googleapis.com%2fauth%2fdrive.photos.readonly%20https%3a%2f%2fwww.googleapis.com%2fauth%2fpeopleapi.readonly\n",
            "\n",
            "Enter your authorization code:\n",
            "··········\n",
            "Mounted at /content/drive\n"
          ],
          "name": "stdout"
        }
      ]
    },
    {
      "cell_type": "code",
      "metadata": {
        "id": "ntLKbaApDOs-",
        "colab_type": "code",
        "colab": {}
      },
      "source": [
        "import os\n",
        "import pandas as pd\n",
        "import numpy as np"
      ],
      "execution_count": 0,
      "outputs": []
    },
    {
      "cell_type": "code",
      "metadata": {
        "id": "oCN7Bwyvoih-",
        "colab_type": "code",
        "colab": {
          "base_uri": "https://localhost:8080/",
          "height": 54
        },
        "outputId": "272c17e2-565a-4a99-a5d0-7e1ca72546fc"
      },
      "source": [
        "# List of files in each month of social distancing\n",
        "# TODO: Change folder and folder_fips according to drive\n",
        "\n",
        "folder = '/content/drive/My Drive/Grad Courses/CSE547/COVID19 data analysis/safegraph/social-distancing/2020/'\n",
        "folder_fips = \"/content/drive/My Drive/Grad Courses/CSE547/COVID19 data analysis/safegraph/safegraph_open_census_data/metadata/cbg_fips_codes.csv\"\n",
        "\n",
        "#Change month accordingly\n",
        "month = '01'\n",
        "\n",
        "# read file names in given month\n",
        "file_list = [(x[0]+ '/' + str(*x[2])) for x in os.walk(folder+month+'/')]\n",
        "file_list = file_list[1:]\n",
        "file_list[0]"
      ],
      "execution_count": 173,
      "outputs": [
        {
          "output_type": "execute_result",
          "data": {
            "text/plain": [
              "'/content/drive/My Drive/Grad Courses/CSE547/COVID19 data analysis/safegraph/social-distancing/2020/01/01/2020-01-01-social-distancing.csv'"
            ]
          },
          "metadata": {
            "tags": []
          },
          "execution_count": 173
        }
      ]
    },
    {
      "cell_type": "code",
      "metadata": {
        "id": "vAm26OXBD1P-",
        "colab_type": "code",
        "colab": {}
      },
      "source": [
        "# Combine state, county with fips file and remove unrequired columns\n",
        "\n",
        "def clean(table):\n",
        "  l = []\n",
        "  for val in table.origin_census_block_group:\n",
        "    arr = [int(i) for i in str(val)]\n",
        "    if len(arr)<12:\n",
        "      arr.insert(0,0)\n",
        "    state = arr[0]*10+arr[1]\n",
        "    s_c = state *1000 + arr[2]*100+arr[3]*10+arr[4]\n",
        "    l.append(s_c)\n",
        "\n",
        "  # Add state,county identifier extracted from cbg\n",
        "  table['unique']= l\n",
        "  table['date_range_start'] =table['date_range_start'].apply(lambda x: x.split('T')[0])\n",
        "  table = table[['date_range_start','device_count','completely_home_device_count','unique']]\n",
        "  table = pd.merge(table,fips[['state','county','unique']],on='unique', how='inner')\n",
        "  \n",
        "  # data = df[['date_range_start','device_count','completely_home_device_count','unique','state','county']]\n",
        "  table = table.groupby(['state', 'county','date_range_start']).mean().reset_index()\n",
        "\n",
        "  return table"
      ],
      "execution_count": 0,
      "outputs": []
    },
    {
      "cell_type": "code",
      "metadata": {
        "id": "2DzyP72SufAM",
        "colab_type": "code",
        "colab": {}
      },
      "source": [
        "# Read CSV file\n",
        "\n",
        "fips = pd.read_csv(folder_fips)\n",
        "fips['unique']= fips.state_fips*1000+fips.county_fips\n",
        "print(fips.head())\n",
        "\n",
        "# Read each day csv, clean data, add to month list\n",
        "month_l = []\n",
        "for files in file_list:\n",
        "  print(files)\n",
        "  table = pd.read_csv(files)\n",
        "  table = clean(table)\n",
        "  month_l.append(table)\n",
        "\n",
        "# Convert to dataframe\n",
        "month_1 = pd.concat(month_l,ignore_index=True)\n",
        "\n",
        "# Sort based on date\n",
        "month_1.sort_values(by=['date_range_start'],ignore_index=True, inplace=True)\n",
        "\n",
        "# save month file\n",
        "# month_1.to_feather(folder+month+'_county_level_device_home')\n"
      ],
      "execution_count": 0,
      "outputs": []
    },
    {
      "cell_type": "code",
      "metadata": {
        "id": "vlVo5hy27-8p",
        "colab_type": "code",
        "colab": {
          "base_uri": "https://localhost:8080/",
          "height": 609
        },
        "outputId": "64d5dc27-2c5f-43a6-ca0d-4122682f268f"
      },
      "source": [
        "# Verify\n",
        "month_2 = pd.read_feather(folder+month+'_county_level_device_home')\n",
        "month_2"
      ],
      "execution_count": 170,
      "outputs": [
        {
          "output_type": "execute_result",
          "data": {
            "text/html": [
              "<div>\n",
              "<style scoped>\n",
              "    .dataframe tbody tr th:only-of-type {\n",
              "        vertical-align: middle;\n",
              "    }\n",
              "\n",
              "    .dataframe tbody tr th {\n",
              "        vertical-align: top;\n",
              "    }\n",
              "\n",
              "    .dataframe thead th {\n",
              "        text-align: right;\n",
              "    }\n",
              "</style>\n",
              "<table border=\"1\" class=\"dataframe\">\n",
              "  <thead>\n",
              "    <tr style=\"text-align: right;\">\n",
              "      <th></th>\n",
              "      <th>state</th>\n",
              "      <th>county</th>\n",
              "      <th>date_range_start</th>\n",
              "      <th>device_count</th>\n",
              "      <th>completely_home_device_count</th>\n",
              "      <th>unique</th>\n",
              "    </tr>\n",
              "  </thead>\n",
              "  <tbody>\n",
              "    <tr>\n",
              "      <th>0</th>\n",
              "      <td>WY</td>\n",
              "      <td>Weston County</td>\n",
              "      <td>2020-04-01</td>\n",
              "      <td>70.800000</td>\n",
              "      <td>27.000000</td>\n",
              "      <td>56045.0</td>\n",
              "    </tr>\n",
              "    <tr>\n",
              "      <th>1</th>\n",
              "      <td>KY</td>\n",
              "      <td>Montgomery County</td>\n",
              "      <td>2020-04-01</td>\n",
              "      <td>103.222222</td>\n",
              "      <td>33.722222</td>\n",
              "      <td>21173.0</td>\n",
              "    </tr>\n",
              "    <tr>\n",
              "      <th>2</th>\n",
              "      <td>KY</td>\n",
              "      <td>Monroe County</td>\n",
              "      <td>2020-04-01</td>\n",
              "      <td>68.000000</td>\n",
              "      <td>19.300000</td>\n",
              "      <td>21171.0</td>\n",
              "    </tr>\n",
              "    <tr>\n",
              "      <th>3</th>\n",
              "      <td>KY</td>\n",
              "      <td>Metcalfe County</td>\n",
              "      <td>2020-04-01</td>\n",
              "      <td>60.500000</td>\n",
              "      <td>19.600000</td>\n",
              "      <td>21169.0</td>\n",
              "    </tr>\n",
              "    <tr>\n",
              "      <th>4</th>\n",
              "      <td>KY</td>\n",
              "      <td>Mercer County</td>\n",
              "      <td>2020-04-01</td>\n",
              "      <td>79.117647</td>\n",
              "      <td>28.764706</td>\n",
              "      <td>21167.0</td>\n",
              "    </tr>\n",
              "    <tr>\n",
              "      <th>...</th>\n",
              "      <td>...</td>\n",
              "      <td>...</td>\n",
              "      <td>...</td>\n",
              "      <td>...</td>\n",
              "      <td>...</td>\n",
              "      <td>...</td>\n",
              "    </tr>\n",
              "    <tr>\n",
              "      <th>77334</th>\n",
              "      <td>KY</td>\n",
              "      <td>Metcalfe County</td>\n",
              "      <td>2020-04-24</td>\n",
              "      <td>54.700000</td>\n",
              "      <td>11.100000</td>\n",
              "      <td>21169.0</td>\n",
              "    </tr>\n",
              "    <tr>\n",
              "      <th>77335</th>\n",
              "      <td>KY</td>\n",
              "      <td>Monroe County</td>\n",
              "      <td>2020-04-24</td>\n",
              "      <td>63.700000</td>\n",
              "      <td>13.300000</td>\n",
              "      <td>21171.0</td>\n",
              "    </tr>\n",
              "    <tr>\n",
              "      <th>77336</th>\n",
              "      <td>KY</td>\n",
              "      <td>Montgomery County</td>\n",
              "      <td>2020-04-24</td>\n",
              "      <td>89.666667</td>\n",
              "      <td>26.055556</td>\n",
              "      <td>21173.0</td>\n",
              "    </tr>\n",
              "    <tr>\n",
              "      <th>77337</th>\n",
              "      <td>KY</td>\n",
              "      <td>Martin County</td>\n",
              "      <td>2020-04-24</td>\n",
              "      <td>38.400000</td>\n",
              "      <td>11.700000</td>\n",
              "      <td>21159.0</td>\n",
              "    </tr>\n",
              "    <tr>\n",
              "      <th>77338</th>\n",
              "      <td>WY</td>\n",
              "      <td>Weston County</td>\n",
              "      <td>2020-04-24</td>\n",
              "      <td>56.400000</td>\n",
              "      <td>20.400000</td>\n",
              "      <td>56045.0</td>\n",
              "    </tr>\n",
              "  </tbody>\n",
              "</table>\n",
              "<p>77339 rows × 6 columns</p>\n",
              "</div>"
            ],
            "text/plain": [
              "      state             county  ... completely_home_device_count   unique\n",
              "0        WY      Weston County  ...                    27.000000  56045.0\n",
              "1        KY  Montgomery County  ...                    33.722222  21173.0\n",
              "2        KY      Monroe County  ...                    19.300000  21171.0\n",
              "3        KY    Metcalfe County  ...                    19.600000  21169.0\n",
              "4        KY      Mercer County  ...                    28.764706  21167.0\n",
              "...     ...                ...  ...                          ...      ...\n",
              "77334    KY    Metcalfe County  ...                    11.100000  21169.0\n",
              "77335    KY      Monroe County  ...                    13.300000  21171.0\n",
              "77336    KY  Montgomery County  ...                    26.055556  21173.0\n",
              "77337    KY      Martin County  ...                    11.700000  21159.0\n",
              "77338    WY      Weston County  ...                    20.400000  56045.0\n",
              "\n",
              "[77339 rows x 6 columns]"
            ]
          },
          "metadata": {
            "tags": []
          },
          "execution_count": 170
        }
      ]
    }
  ]
}
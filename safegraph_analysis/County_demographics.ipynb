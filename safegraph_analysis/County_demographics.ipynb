{
  "nbformat": 4,
  "nbformat_minor": 0,
  "metadata": {
    "colab": {
      "name": "County_demographics.ipynb",
      "provenance": []
    },
    "kernelspec": {
      "name": "python3",
      "display_name": "Python 3"
    }
  },
  "cells": [
    {
      "cell_type": "code",
      "metadata": {
        "id": "7GWpxR048yuO",
        "colab_type": "code",
        "colab": {}
      },
      "source": [
        "import pandas as pd\n",
        "income = pd.read_csv(\"Unemployment.csv\")\n",
        "income = income [['FIPStxt','Stabr','area_name', 'Unemployment_rate_2019', 'Median_Household_Income_2018']]"
      ],
      "execution_count": 0,
      "outputs": []
    },
    {
      "cell_type": "code",
      "metadata": {
        "id": "ZSJf1Kvl-xTn",
        "colab_type": "code",
        "colab": {}
      },
      "source": [
        "state_val = income[income['FIPStxt']%1000 ==0]\n",
        "county_val = income[~(income['FIPStxt']%1000 ==0)]\n",
        "county_val"
      ],
      "execution_count": 0,
      "outputs": []
    },
    {
      "cell_type": "code",
      "metadata": {
        "id": "FuKCY81ZFtsV",
        "colab_type": "code",
        "colab": {}
      },
      "source": [
        "election_16 = pd.read_csv(\"2016_US_County_Level_Presidential_Results.csv\")\n",
        "\n",
        "election_16\n",
        "\n"
      ],
      "execution_count": 0,
      "outputs": []
    },
    {
      "cell_type": "code",
      "metadata": {
        "id": "GWLAoJRKmBHV",
        "colab_type": "code",
        "colab": {
          "base_uri": "https://localhost:8080/",
          "height": 643
        },
        "outputId": "037684c0-8c83-4877-81e5-f629eb2e6a52"
      },
      "source": [
        "gop = election_16[~(election_16['per_dem']>election_16['per_gop'])]\n",
        "gop['Government'] = 'GOP'\n",
        "\n",
        "dem = election_16[election_16['per_dem']>election_16['per_gop']]\n",
        "dem['Government'] = 'DEM'\n",
        "election_result16 =pd.concat([gop, dem], ignore_index=True)\n",
        "\n",
        "election_result16 = election_result16[['Government','combined_fips']].sort_values(by ='combined_fips')\n",
        "\n",
        "election_result16"
      ],
      "execution_count": 12,
      "outputs": [
        {
          "output_type": "stream",
          "text": [
            "/usr/local/lib/python3.6/dist-packages/ipykernel_launcher.py:2: SettingWithCopyWarning: \n",
            "A value is trying to be set on a copy of a slice from a DataFrame.\n",
            "Try using .loc[row_indexer,col_indexer] = value instead\n",
            "\n",
            "See the caveats in the documentation: https://pandas.pydata.org/pandas-docs/stable/user_guide/indexing.html#returning-a-view-versus-a-copy\n",
            "  \n",
            "/usr/local/lib/python3.6/dist-packages/ipykernel_launcher.py:5: SettingWithCopyWarning: \n",
            "A value is trying to be set on a copy of a slice from a DataFrame.\n",
            "Try using .loc[row_indexer,col_indexer] = value instead\n",
            "\n",
            "See the caveats in the documentation: https://pandas.pydata.org/pandas-docs/stable/user_guide/indexing.html#returning-a-view-versus-a-copy\n",
            "  \"\"\"\n"
          ],
          "name": "stderr"
        },
        {
          "output_type": "execute_result",
          "data": {
            "text/html": [
              "<div>\n",
              "<style scoped>\n",
              "    .dataframe tbody tr th:only-of-type {\n",
              "        vertical-align: middle;\n",
              "    }\n",
              "\n",
              "    .dataframe tbody tr th {\n",
              "        vertical-align: top;\n",
              "    }\n",
              "\n",
              "    .dataframe thead th {\n",
              "        text-align: right;\n",
              "    }\n",
              "</style>\n",
              "<table border=\"1\" class=\"dataframe\">\n",
              "  <thead>\n",
              "    <tr style=\"text-align: right;\">\n",
              "      <th></th>\n",
              "      <th>Government</th>\n",
              "      <th>combined_fips</th>\n",
              "    </tr>\n",
              "  </thead>\n",
              "  <tbody>\n",
              "    <tr>\n",
              "      <th>29</th>\n",
              "      <td>GOP</td>\n",
              "      <td>1001</td>\n",
              "    </tr>\n",
              "    <tr>\n",
              "      <th>30</th>\n",
              "      <td>GOP</td>\n",
              "      <td>1003</td>\n",
              "    </tr>\n",
              "    <tr>\n",
              "      <th>31</th>\n",
              "      <td>GOP</td>\n",
              "      <td>1005</td>\n",
              "    </tr>\n",
              "    <tr>\n",
              "      <th>32</th>\n",
              "      <td>GOP</td>\n",
              "      <td>1007</td>\n",
              "    </tr>\n",
              "    <tr>\n",
              "      <th>33</th>\n",
              "      <td>GOP</td>\n",
              "      <td>1009</td>\n",
              "    </tr>\n",
              "    <tr>\n",
              "      <th>...</th>\n",
              "      <td>...</td>\n",
              "      <td>...</td>\n",
              "    </tr>\n",
              "    <tr>\n",
              "      <th>2650</th>\n",
              "      <td>GOP</td>\n",
              "      <td>56037</td>\n",
              "    </tr>\n",
              "    <tr>\n",
              "      <th>3140</th>\n",
              "      <td>DEM</td>\n",
              "      <td>56039</td>\n",
              "    </tr>\n",
              "    <tr>\n",
              "      <th>2651</th>\n",
              "      <td>GOP</td>\n",
              "      <td>56041</td>\n",
              "    </tr>\n",
              "    <tr>\n",
              "      <th>2652</th>\n",
              "      <td>GOP</td>\n",
              "      <td>56043</td>\n",
              "    </tr>\n",
              "    <tr>\n",
              "      <th>2653</th>\n",
              "      <td>GOP</td>\n",
              "      <td>56045</td>\n",
              "    </tr>\n",
              "  </tbody>\n",
              "</table>\n",
              "<p>3141 rows × 2 columns</p>\n",
              "</div>"
            ],
            "text/plain": [
              "     Government  combined_fips\n",
              "29          GOP           1001\n",
              "30          GOP           1003\n",
              "31          GOP           1005\n",
              "32          GOP           1007\n",
              "33          GOP           1009\n",
              "...         ...            ...\n",
              "2650        GOP          56037\n",
              "3140        DEM          56039\n",
              "2651        GOP          56041\n",
              "2652        GOP          56043\n",
              "2653        GOP          56045\n",
              "\n",
              "[3141 rows x 2 columns]"
            ]
          },
          "metadata": {
            "tags": []
          },
          "execution_count": 12
        }
      ]
    },
    {
      "cell_type": "code",
      "metadata": {
        "id": "9wYIgf97Goei",
        "colab_type": "code",
        "colab": {}
      },
      "source": [
        "county_val = county_val.merge(election_result16,'inner',left_on='FIPStxt',right_on='combined_fips').drop(columns =['combined_fips'])"
      ],
      "execution_count": 0,
      "outputs": []
    },
    {
      "cell_type": "code",
      "metadata": {
        "id": "JiuRRnGdq7X0",
        "colab_type": "code",
        "colab": {
          "base_uri": "https://localhost:8080/",
          "height": 419
        },
        "outputId": "f2dcb5ce-e936-420d-d9a7-821a66f4161d"
      },
      "source": [
        "population = pd.read_csv(\"PopulationEstimates.csv\",encoding=\"ISO-8859-1\")\n",
        "population = population [['FIPStxt','POP_ESTIMATE_2019']]\n",
        "county_pop = population[~(population['FIPStxt']%1000 ==0)]\n",
        "county_pop"
      ],
      "execution_count": 31,
      "outputs": [
        {
          "output_type": "execute_result",
          "data": {
            "text/html": [
              "<div>\n",
              "<style scoped>\n",
              "    .dataframe tbody tr th:only-of-type {\n",
              "        vertical-align: middle;\n",
              "    }\n",
              "\n",
              "    .dataframe tbody tr th {\n",
              "        vertical-align: top;\n",
              "    }\n",
              "\n",
              "    .dataframe thead th {\n",
              "        text-align: right;\n",
              "    }\n",
              "</style>\n",
              "<table border=\"1\" class=\"dataframe\">\n",
              "  <thead>\n",
              "    <tr style=\"text-align: right;\">\n",
              "      <th></th>\n",
              "      <th>FIPStxt</th>\n",
              "      <th>POP_ESTIMATE_2019</th>\n",
              "    </tr>\n",
              "  </thead>\n",
              "  <tbody>\n",
              "    <tr>\n",
              "      <th>2</th>\n",
              "      <td>1001</td>\n",
              "      <td>55,869</td>\n",
              "    </tr>\n",
              "    <tr>\n",
              "      <th>3</th>\n",
              "      <td>1003</td>\n",
              "      <td>223,234</td>\n",
              "    </tr>\n",
              "    <tr>\n",
              "      <th>4</th>\n",
              "      <td>1005</td>\n",
              "      <td>24,686</td>\n",
              "    </tr>\n",
              "    <tr>\n",
              "      <th>5</th>\n",
              "      <td>1007</td>\n",
              "      <td>22,394</td>\n",
              "    </tr>\n",
              "    <tr>\n",
              "      <th>6</th>\n",
              "      <td>1009</td>\n",
              "      <td>57,826</td>\n",
              "    </tr>\n",
              "    <tr>\n",
              "      <th>...</th>\n",
              "      <td>...</td>\n",
              "      <td>...</td>\n",
              "    </tr>\n",
              "    <tr>\n",
              "      <th>3268</th>\n",
              "      <td>72145</td>\n",
              "      <td>50,023</td>\n",
              "    </tr>\n",
              "    <tr>\n",
              "      <th>3269</th>\n",
              "      <td>72147</td>\n",
              "      <td>8,386</td>\n",
              "    </tr>\n",
              "    <tr>\n",
              "      <th>3270</th>\n",
              "      <td>72149</td>\n",
              "      <td>21,372</td>\n",
              "    </tr>\n",
              "    <tr>\n",
              "      <th>3271</th>\n",
              "      <td>72151</td>\n",
              "      <td>32,282</td>\n",
              "    </tr>\n",
              "    <tr>\n",
              "      <th>3272</th>\n",
              "      <td>72153</td>\n",
              "      <td>33,575</td>\n",
              "    </tr>\n",
              "  </tbody>\n",
              "</table>\n",
              "<p>3220 rows × 2 columns</p>\n",
              "</div>"
            ],
            "text/plain": [
              "      FIPStxt POP_ESTIMATE_2019\n",
              "2        1001            55,869\n",
              "3        1003           223,234\n",
              "4        1005            24,686\n",
              "5        1007            22,394\n",
              "6        1009            57,826\n",
              "...       ...               ...\n",
              "3268    72145            50,023\n",
              "3269    72147             8,386\n",
              "3270    72149            21,372\n",
              "3271    72151            32,282\n",
              "3272    72153            33,575\n",
              "\n",
              "[3220 rows x 2 columns]"
            ]
          },
          "metadata": {
            "tags": []
          },
          "execution_count": 31
        }
      ]
    },
    {
      "cell_type": "code",
      "metadata": {
        "id": "WrtwznlJuEyG",
        "colab_type": "code",
        "colab": {}
      },
      "source": [
        "county_val = county_val.merge(county_pop,'inner','FIPStxt')"
      ],
      "execution_count": 0,
      "outputs": []
    },
    {
      "cell_type": "code",
      "metadata": {
        "id": "u85m4Vx8xqxq",
        "colab_type": "code",
        "colab": {
          "base_uri": "https://localhost:8080/",
          "height": 221
        },
        "outputId": "ac8364eb-1f47-4cf1-cb1c-014385d17ea9"
      },
      "source": [
        "county_area =pd.read_csv(\"/content/drive/My Drive/Grad Courses/CSE547/COVID19 data analysis/demographics/census2016/safegraph_open_census_data/metadata/cbg_geographic_data.csv\")\n",
        "county_area.info()"
      ],
      "execution_count": 33,
      "outputs": [
        {
          "output_type": "stream",
          "text": [
            "<class 'pandas.core.frame.DataFrame'>\n",
            "RangeIndex: 220333 entries, 0 to 220332\n",
            "Data columns (total 5 columns):\n",
            " #   Column              Non-Null Count   Dtype  \n",
            "---  ------              --------------   -----  \n",
            " 0   census_block_group  220333 non-null  int64  \n",
            " 1   amount_land         220333 non-null  float64\n",
            " 2   amount_water        220333 non-null  int64  \n",
            " 3   latitude            220333 non-null  float64\n",
            " 4   longitude           220333 non-null  float64\n",
            "dtypes: float64(3), int64(2)\n",
            "memory usage: 8.4 MB\n"
          ],
          "name": "stdout"
        }
      ]
    },
    {
      "cell_type": "code",
      "metadata": {
        "id": "840gMT9V1RWX",
        "colab_type": "code",
        "colab": {}
      },
      "source": [
        "l =[]\n",
        "for val in county_area.census_block_group:\n",
        "  arr = [int(i) for i in str(val)]\n",
        "  #  print(val)\n",
        "  if len(arr)<12:\n",
        "    arr.insert(0,0)\n",
        "  state = arr[0]*10+arr[1]\n",
        "  s_c = state *1000 + arr[2]*100+arr[3]*10+arr[4]\n",
        "  l.append(s_c)\n",
        "len(l)\n",
        "county_area['FIPStxt'] = l\n",
        "\n",
        "county_land = county_area[['FIPStxt','amount_land']]\n"
      ],
      "execution_count": 0,
      "outputs": []
    },
    {
      "cell_type": "code",
      "metadata": {
        "id": "cv1HnYzH3P1P",
        "colab_type": "code",
        "colab": {}
      },
      "source": [
        "county_land = county_land.groupby(by = 'FIPStxt').mean()"
      ],
      "execution_count": 0,
      "outputs": []
    },
    {
      "cell_type": "code",
      "metadata": {
        "id": "4s09Ig6n3vb9",
        "colab_type": "code",
        "colab": {}
      },
      "source": [
        "county_location = county_area[['FIPStxt','latitude','longitude']]\n",
        "county_location = county_location.groupby(by = 'FIPStxt').mean()"
      ],
      "execution_count": 0,
      "outputs": []
    },
    {
      "cell_type": "code",
      "metadata": {
        "id": "i0rPFVSK5GSt",
        "colab_type": "code",
        "colab": {}
      },
      "source": [
        "county_val = county_val.merge(county_land,'inner','FIPStxt')"
      ],
      "execution_count": 0,
      "outputs": []
    },
    {
      "cell_type": "code",
      "metadata": {
        "id": "0Dyev4oq5fxn",
        "colab_type": "code",
        "colab": {}
      },
      "source": [
        "county_val = county_val.merge(county_location,'inner','FIPStxt')"
      ],
      "execution_count": 0,
      "outputs": []
    },
    {
      "cell_type": "code",
      "metadata": {
        "id": "qoXy4uCh5naA",
        "colab_type": "code",
        "colab": {}
      },
      "source": [
        "county_val.to_csv('county_demographics.csv')"
      ],
      "execution_count": 0,
      "outputs": []
    }
  ]
}